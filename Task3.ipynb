import nltk
from nltk.chat.util import Chat, reflections

pairs = [
    ["hi|hello", ["Hello!", "Hi there!"]],
    ["how are you ?", ["I'm fine.", "Doing good!"]],
    ["what is your name ?", ["I am an AI chatbot."]],
    ["bye", ["Goodbye!", "See you later."]],
]

chatbot = Chat(pairs, reflections)
chatbot.converse()
